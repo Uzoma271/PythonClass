{
 "cells": [
  {
   "cell_type": "markdown",
   "id": "2df4a9ac-43b2-4eb9-b85e-fe730d59818d",
   "metadata": {},
   "source": [
    "Certainly! Here's a Python program that fits your description. This program allows the user to input five words, checks the length of each word, and informs the user whether the word has six letters or not. It then adds only the six-letter words to a list and displays how many inputs are left"
   ]
  },
  {
   "cell_type": "code",
   "execution_count": 3,
   "id": "4b599439-fee4-44f3-85d4-cb3000380e59",
   "metadata": {},
   "outputs": [
    {
     "ename": "IndentationError",
     "evalue": "expected an indented block after 'if' statement on line 21 (1225756311.py, line 22)",
     "output_type": "error",
     "traceback": [
      "\u001b[1;36m  Cell \u001b[1;32mIn[3], line 22\u001b[1;36m\u001b[0m\n\u001b[1;33m    main()\u001b[0m\n\u001b[1;37m    ^\u001b[0m\n\u001b[1;31mIndentationError\u001b[0m\u001b[1;31m:\u001b[0m expected an indented block after 'if' statement on line 21\n"
     ]
    }
   ],
   "source": [
    "def main():\n",
    "    words = []\n",
    "    six_letter_words = []\n",
    "    total_inputs = 5\n",
    "\n",
    "    while len(words) < total_inputs:\n",
    "        word = input(f\"Enter word ({len(words) + 1}/{total_inputs}): \")\n",
    "        words.append(word)\n",
    "        \n",
    "        if len(word) == 6:\n",
    "            six_letter_words.append(word)\n",
    "            print(\"This is a six-letter word.\")\n",
    "        elif len(word) < 6:\n",
    "            print(\"This word has less than six letters.\")\n",
    "        else:\n",
    "            print(\"This word has more than six letters.\")\n",
    "        \n",
    "        print(f\"You have {total_inputs - len(words)} inputs left.\")\n",
    "    \n",
    "    print(\"\\nSix-letter words entered:\", six_letter_words)\n",
    "\n",
    "if __name__ == \"__main__\":\n",
    "    main()"
   ]
  },
  {
   "cell_type": "raw",
   "id": "006c0d00-e1a4-4bbd-b700-3b4b0666caa2",
   "metadata": {},
   "source": [
    "### How the Program Works:\n",
    "1. *Initialization*: It initializes an empty list words to store all words entered by the user and another list six_letter_words to store only the six-letter words.\n",
    "2. *Input Loop*: It runs a loop until the user has entered five words.\n",
    "3. *User Prompt*: In each iteration, it prompts the user to enter a word and keeps track of how many words have been entered.\n",
    "4. *Length Check and Feedback*:\n",
    "   - If the word has exactly six letters, it's added to the six_letter_words list, and the user is informed that it's a six-letter word.\n",
    "   - If the word has less than six letters, the user is informed accordingly.\n",
    "   - If the word has more than six letters, the user is informed as well.\n",
    "5. *Remaining Inputs*: After each input, it displays how many inputs are left.\n",
    "6. *Final Output*: After collecting all five words, it prints the list of six-letter words entered by the user.\n",
    "\n",
    "This ensures that the user is guided through the input process with clear feedback and that only the six-letter words are stored in the final list."
   ]
  },
  {
   "cell_type": "code",
   "execution_count": null,
   "id": "df9e32c3-c042-4175-9e15-652fddd2bbdb",
   "metadata": {},
   "outputs": [],
   "source": []
  }
 ],
 "metadata": {
  "kernelspec": {
   "display_name": "Python 3 (ipykernel)",
   "language": "python",
   "name": "python3"
  },
  "language_info": {
   "codemirror_mode": {
    "name": "ipython",
    "version": 3
   },
   "file_extension": ".py",
   "mimetype": "text/x-python",
   "name": "python",
   "nbconvert_exporter": "python",
   "pygments_lexer": "ipython3",
   "version": "3.12.4"
  }
 },
 "nbformat": 4,
 "nbformat_minor": 5
}
