{
 "cells": [
  {
   "cell_type": "code",
   "execution_count": 9,
   "id": "948ee12b",
   "metadata": {},
   "outputs": [
    {
     "data": {
      "text/plain": [
       "28"
      ]
     },
     "execution_count": 9,
     "metadata": {},
     "output_type": "execute_result"
    }
   ],
   "source": [
    "import random\n",
    "rand_no = random.randint(0, 200)\n",
    "rand_no"
   ]
  },
  {
   "cell_type": "code",
   "execution_count": 3,
   "id": "a4b2ede5",
   "metadata": {},
   "outputs": [
    {
     "name": "stdout",
     "output_type": "stream",
     "text": [
      "2 multiple\n",
      "2 x 1 = 2\n",
      "2 x 2 = 4\n",
      "2 x 3 = 6\n",
      "2 x 4 = 8\n",
      "2 x 5 = 10\n",
      "2 x 6 = 12\n",
      "2 x 7 = 14\n",
      "2 x 8 = 16\n",
      "2 x 9 = 18\n",
      "2 x 10 = 20\n",
      "2 x 11 = 22\n",
      "2 x 12 = 24\n",
      "===============\n",
      "3 multiple\n",
      "3 x 1 = 3\n",
      "3 x 2 = 6\n",
      "3 x 3 = 9\n",
      "3 x 4 = 12\n",
      "3 x 5 = 15\n",
      "3 x 6 = 18\n",
      "3 x 7 = 21\n",
      "3 x 8 = 24\n",
      "3 x 9 = 27\n",
      "3 x 10 = 30\n",
      "3 x 11 = 33\n",
      "3 x 12 = 36\n",
      "===============\n",
      "4 multiple\n",
      "4 x 1 = 4\n",
      "4 x 2 = 8\n",
      "4 x 3 = 12\n",
      "4 x 4 = 16\n",
      "4 x 5 = 20\n",
      "4 x 6 = 24\n",
      "4 x 7 = 28\n",
      "4 x 8 = 32\n",
      "4 x 9 = 36\n",
      "4 x 10 = 40\n",
      "4 x 11 = 44\n",
      "4 x 12 = 48\n",
      "===============\n",
      "5 multiple\n",
      "5 x 1 = 5\n",
      "5 x 2 = 10\n",
      "5 x 3 = 15\n",
      "5 x 4 = 20\n",
      "5 x 5 = 25\n",
      "5 x 6 = 30\n",
      "5 x 7 = 35\n",
      "5 x 8 = 40\n",
      "5 x 9 = 45\n",
      "5 x 10 = 50\n",
      "5 x 11 = 55\n",
      "5 x 12 = 60\n",
      "===============\n",
      "6 multiple\n",
      "6 x 1 = 6\n",
      "6 x 2 = 12\n",
      "6 x 3 = 18\n",
      "6 x 4 = 24\n",
      "6 x 5 = 30\n",
      "6 x 6 = 36\n",
      "6 x 7 = 42\n",
      "6 x 8 = 48\n",
      "6 x 9 = 54\n",
      "6 x 10 = 60\n",
      "6 x 11 = 66\n",
      "6 x 12 = 72\n",
      "===============\n",
      "7 multiple\n",
      "7 x 1 = 7\n",
      "7 x 2 = 14\n",
      "7 x 3 = 21\n",
      "7 x 4 = 28\n",
      "7 x 5 = 35\n",
      "7 x 6 = 42\n",
      "7 x 7 = 49\n",
      "7 x 8 = 56\n",
      "7 x 9 = 63\n",
      "7 x 10 = 70\n",
      "7 x 11 = 77\n",
      "7 x 12 = 84\n",
      "===============\n",
      "8 multiple\n",
      "8 x 1 = 8\n",
      "8 x 2 = 16\n",
      "8 x 3 = 24\n",
      "8 x 4 = 32\n",
      "8 x 5 = 40\n",
      "8 x 6 = 48\n",
      "8 x 7 = 56\n",
      "8 x 8 = 64\n",
      "8 x 9 = 72\n",
      "8 x 10 = 80\n",
      "8 x 11 = 88\n",
      "8 x 12 = 96\n",
      "===============\n",
      "9 multiple\n",
      "9 x 1 = 9\n",
      "9 x 2 = 18\n",
      "9 x 3 = 27\n",
      "9 x 4 = 36\n",
      "9 x 5 = 45\n",
      "9 x 6 = 54\n",
      "9 x 7 = 63\n",
      "9 x 8 = 72\n",
      "9 x 9 = 81\n",
      "9 x 10 = 90\n",
      "9 x 11 = 99\n",
      "9 x 12 = 108\n",
      "===============\n",
      "10 multiple\n",
      "10 x 1 = 10\n",
      "10 x 2 = 20\n",
      "10 x 3 = 30\n",
      "10 x 4 = 40\n",
      "10 x 5 = 50\n",
      "10 x 6 = 60\n",
      "10 x 7 = 70\n",
      "10 x 8 = 80\n",
      "10 x 9 = 90\n",
      "10 x 10 = 100\n",
      "10 x 11 = 110\n",
      "10 x 12 = 120\n",
      "===============\n",
      "11 multiple\n",
      "11 x 1 = 11\n",
      "11 x 2 = 22\n",
      "11 x 3 = 33\n",
      "11 x 4 = 44\n",
      "11 x 5 = 55\n",
      "11 x 6 = 66\n",
      "11 x 7 = 77\n",
      "11 x 8 = 88\n",
      "11 x 9 = 99\n",
      "11 x 10 = 110\n",
      "11 x 11 = 121\n",
      "11 x 12 = 132\n",
      "===============\n",
      "12 multiple\n",
      "12 x 1 = 12\n",
      "12 x 2 = 24\n",
      "12 x 3 = 36\n",
      "12 x 4 = 48\n",
      "12 x 5 = 60\n",
      "12 x 6 = 72\n",
      "12 x 7 = 84\n",
      "12 x 8 = 96\n",
      "12 x 9 = 108\n",
      "12 x 10 = 120\n",
      "12 x 11 = 132\n",
      "12 x 12 = 144\n",
      "===============\n",
      "13 multiple\n"
     ]
    }
   ],
   "source": [
    "print(\"2 multiple\")\n",
    "for i in range(2, 13):\n",
    "    for a in range(1, 13):\n",
    "        print(i, \"x\", a, \"=\", a * i)\n",
    "    print(\"===============\")\n",
    "    print(i + 1, \"multiple\")"
   ]
  },
  {
   "cell_type": "code",
   "execution_count": null,
   "id": "a54a009d",
   "metadata": {},
   "outputs": [],
   "source": [
    "i = 1\n",
    "a = 2\n",
    "while i < 13:\n",
    "    for a in range(1, 13):\n",
    "        print(i, \"x\", a, \"=\", a * i)\n",
    "    i+=1"
   ]
  },
  {
   "cell_type": "markdown",
   "id": "be012d9c",
   "metadata": {},
   "source": [
    "## Python Functions"
   ]
  },
  {
   "cell_type": "raw",
   "id": "22f54070",
   "metadata": {},
   "source": [
    "A function is a block of code which only runs when it is called.\n",
    "\n",
    "You can pass data, known as parameters, into a function.\n",
    "\n",
    "A function can return data as a result.\n",
    "\n",
    "Creating a Function\n",
    "In Python a function is defined using the def keyword:"
   ]
  },
  {
   "cell_type": "code",
   "execution_count": null,
   "id": "9b75d07a",
   "metadata": {},
   "outputs": [],
   "source": [
    "def my_function():\n",
    "    print(\"Hello from a function\")"
   ]
  },
  {
   "cell_type": "code",
   "execution_count": null,
   "id": "07234f4b",
   "metadata": {},
   "outputs": [],
   "source": [
    "def my_function():\n",
    "    print(\"Hello from a function\")\n",
    "\n",
    "my_function()"
   ]
  },
  {
   "cell_type": "raw",
   "id": "a940b255",
   "metadata": {},
   "source": [
    "Arguments\n",
    "\n",
    "Information can be passed into functions as arguments.\n",
    "\n",
    "Arguments are specified after the function name, inside the parentheses. \n",
    "You can add as many arguments as you want, just separate them with a comma.\n",
    "\n",
    "The following example has a function with one argument (fname). \n",
    "When the function is called, we pass along a first name, \n",
    "which is used inside the function to print the full name:"
   ]
  },
  {
   "cell_type": "code",
   "execution_count": 1,
   "id": "4254c120",
   "metadata": {},
   "outputs": [
    {
     "name": "stdout",
     "output_type": "stream",
     "text": [
      "Emil Refsnes\n",
      "Tobias Refsnes\n",
      "Linus Refsnes\n"
     ]
    }
   ],
   "source": [
    "def my_function(fname):\n",
    "    print(fname + \" Refsnes\")\n",
    "\n",
    "my_function(\"Emil\")\n",
    "my_function(\"Tobias\")\n",
    "my_function(\"Linus\")"
   ]
  },
  {
   "cell_type": "raw",
   "id": "4a278aa2",
   "metadata": {},
   "source": [
    "From a function's perspective:\n",
    "\n",
    "A parameter is the variable listed inside the parentheses in the function definition.\n",
    "An argument is the value that is sent to the function when it is called."
   ]
  },
  {
   "cell_type": "raw",
   "id": "6b4718be",
   "metadata": {},
   "source": [
    "Number of Arguments\n",
    "\n",
    "By default, a function must be called with the correct number of arguments. \n",
    "Meaning that if your function expects 2 arguments, \n",
    "you have to call the function with 2 arguments, not more, and not less."
   ]
  },
  {
   "cell_type": "code",
   "execution_count": 5,
   "id": "eebe7d6a",
   "metadata": {},
   "outputs": [
    {
     "data": {
      "text/plain": [
       "3"
      ]
     },
     "execution_count": 5,
     "metadata": {},
     "output_type": "execute_result"
    }
   ],
   "source": [
    "def func(a):\n",
    "    return(a)\n",
    "\n",
    "func(3)"
   ]
  },
  {
   "cell_type": "code",
   "execution_count": null,
   "id": "cca8888b",
   "metadata": {},
   "outputs": [],
   "source": [
    "#This function expects 2 arguments, and gets 2 arguments:\n",
    "def my_function(fname, lname):\n",
    "    print(fname + \" \" + lname)\n",
    "\n",
    "my_function(\"Emil\", \"Refsnes\")"
   ]
  },
  {
   "cell_type": "code",
   "execution_count": 5,
   "id": "66f3c637",
   "metadata": {},
   "outputs": [],
   "source": [
    "def details(fullname, email):\n",
    "    print(\"we have gotten your fullname which is : \"+fullname+ \" and email which is: \" +email)"
   ]
  },
  {
   "cell_type": "code",
   "execution_count": 6,
   "id": "2d7475d2",
   "metadata": {},
   "outputs": [
    {
     "name": "stdout",
     "output_type": "stream",
     "text": [
      "we have gotten your fullname which is : victor and email which is: victor@yahoo.com\n"
     ]
    }
   ],
   "source": [
    "details(\"victor\", \"victor@yahoo.com\")"
   ]
  },
  {
   "cell_type": "code",
   "execution_count": 9,
   "id": "61b0d8c1",
   "metadata": {},
   "outputs": [],
   "source": [
    "def add(a, b):\n",
    "    print(a+b)"
   ]
  },
  {
   "cell_type": "code",
   "execution_count": 18,
   "id": "4be1d2ae",
   "metadata": {},
   "outputs": [
    {
     "name": "stdout",
     "output_type": "stream",
     "text": [
      "8\n"
     ]
    }
   ],
   "source": [
    "entry1 = int(input(\"enter first number for addition\"))\n",
    "entry2 = int(input(\"enter second number for addition\"))\n",
    "\n",
    "add(entry1, entry2)"
   ]
  },
  {
   "cell_type": "code",
   "execution_count": 17,
   "id": "4f0ac7ac",
   "metadata": {},
   "outputs": [
    {
     "name": "stdout",
     "output_type": "stream",
     "text": [
      "name is less than 6 letter words, you need to try again\n",
      "meanwhile you have  4  opportunies left to try\n",
      "name accepted and registered\n"
     ]
    }
   ],
   "source": [
    "#enter your name 5 times but must be 6 letter words\n",
    "\n",
    "#Assignment - function to get the multiplication table of any number entered by a user.\n"
   ]
  },
  {
   "cell_type": "markdown",
   "id": "4d8454d3",
   "metadata": {},
   "source": [
    "## Arbitrary Arguments, *args"
   ]
  },
  {
   "cell_type": "raw",
   "id": "e5f50357",
   "metadata": {},
   "source": [
    "If you do not know how many arguments that will be passed into your function, \n",
    "add a * before the parameter name in the function definition.\n",
    "\n",
    "This way the function will receive a tuple of arguments, and can access the items accordingly:"
   ]
  },
  {
   "cell_type": "code",
   "execution_count": 13,
   "id": "c79c610c",
   "metadata": {},
   "outputs": [],
   "source": [
    "#If the number of arguments is unknown, add a * before the parameter name:\n",
    "\n",
    "def my_function(*kids):\n",
    "    print(\"The number of kids \" , len(kids))"
   ]
  },
  {
   "cell_type": "code",
   "execution_count": 19,
   "id": "961d8a29",
   "metadata": {},
   "outputs": [
    {
     "name": "stdout",
     "output_type": "stream",
     "text": [
      "the nameayo\n",
      "the namebola\n",
      "The number of kids  2\n"
     ]
    }
   ],
   "source": [
    "firstkid = input(\"the name\")\n",
    "secondkid = input(\"the name\")\n",
    "\n",
    "my_function(firstkid, secondkid)"
   ]
  },
  {
   "cell_type": "code",
   "execution_count": 15,
   "id": "0031dd64",
   "metadata": {},
   "outputs": [
    {
     "name": "stdout",
     "output_type": "stream",
     "text": [
      "The youngest child is  ('Emil', 'Tobias', 'Linus')\n"
     ]
    }
   ],
   "source": [
    "#If the number of arguments is unknown, add a * before the parameter name:\n",
    "def my_function(*kids):\n",
    "    print(\"The youngest child is \" , kids)\n",
    "    \n",
    "my_function(\"Emil\", \"Tobias\", \"Linus\")"
   ]
  },
  {
   "cell_type": "code",
   "execution_count": null,
   "id": "752c9879-5bc6-4980-9b9a-b7c11501da86",
   "metadata": {},
   "outputs": [],
   "source": []
  },
  {
   "cell_type": "markdown",
   "id": "7c4fd3aa",
   "metadata": {},
   "source": [
    "## Arbitrary Keyword Arguments, **kwargs"
   ]
  },
  {
   "cell_type": "raw",
   "id": "5d82ad57",
   "metadata": {},
   "source": [
    "If you do not know how many keyword arguments that will be passed into your function, \n",
    "add two asterisk: ** before the parameter name in the function definition.\n",
    "\n",
    "This way the function will receive a dictionary of arguments, and can access the items accordingly:"
   ]
  },
  {
   "cell_type": "code",
   "execution_count": 32,
   "id": "a5fbab13",
   "metadata": {},
   "outputs": [],
   "source": [
    "def myfunc(**name):\n",
    "    print(name)"
   ]
  },
  {
   "cell_type": "code",
   "execution_count": 35,
   "id": "735f196d",
   "metadata": {},
   "outputs": [
    {
     "name": "stdout",
     "output_type": "stream",
     "text": [
      "{'name1': 'bimpe', 'name2': 'sola'}\n"
     ]
    }
   ],
   "source": [
    "myfunc(name1=\"bimpe\", name2=\"sola\")"
   ]
  },
  {
   "cell_type": "code",
   "execution_count": 5,
   "id": "35f05443",
   "metadata": {},
   "outputs": [
    {
     "name": "stdout",
     "output_type": "stream",
     "text": [
      "His last name is Refsnes\n"
     ]
    }
   ],
   "source": [
    "#If the number of keyword arguments is unknown, add a double ** before the parameter name:\n",
    "\n",
    "def my_function(**kid):\n",
    "      print(\"His last name is \" + kid[\"lname\"])\n",
    "\n",
    "my_function(fname = \"Tobias\", lname = \"Refsnes\")"
   ]
  },
  {
   "cell_type": "code",
   "execution_count": null,
   "id": "67083d84",
   "metadata": {},
   "outputs": [],
   "source": []
  },
  {
   "cell_type": "code",
   "execution_count": 1,
   "id": "ba921ffd",
   "metadata": {},
   "outputs": [],
   "source": [
    "# Default Parameter Value\n",
    "\n",
    "# The following example shows how to use a default parameter value\n",
    "# If we call the function without argument, it uses the default value:"
   ]
  },
  {
   "cell_type": "code",
   "execution_count": 6,
   "id": "8e2819b0",
   "metadata": {},
   "outputs": [
    {
     "name": "stdout",
     "output_type": "stream",
     "text": [
      "I am from Sweden\n",
      "I am from India\n",
      "I am from Norway\n",
      "I am from Brazil\n"
     ]
    }
   ],
   "source": [
    "def my_function(country = \"Norway\"):\n",
    "    print(\"I am from \" + country)\n",
    "\n",
    "my_function(\"Sweden\")\n",
    "my_function(\"India\")\n",
    "my_function()\n",
    "my_function(\"Brazil\")"
   ]
  },
  {
   "cell_type": "raw",
   "id": "5d4596c9",
   "metadata": {},
   "source": [
    "Passing a List as an Argument\n",
    "\n",
    "You can send any data types of argument to a function (string, number, list, dictionary etc.), \n",
    "and it will be treated as the same data type inside the function.\n",
    "E.g. if you send a List as an argument, it will still be a List when it reaches the function:"
   ]
  },
  {
   "cell_type": "code",
   "execution_count": 23,
   "id": "10e897b8",
   "metadata": {},
   "outputs": [
    {
     "name": "stdout",
     "output_type": "stream",
     "text": [
      "apple\n",
      "banana\n",
      "cherry\n"
     ]
    }
   ],
   "source": [
    "def my_function(food):\n",
    "    for x in food:\n",
    "        print(x)\n",
    "\n",
    "fruits = [\"apple\", \"banana\", \"cherry\"]\n",
    "\n",
    "my_function(fruits)"
   ]
  },
  {
   "cell_type": "code",
   "execution_count": null,
   "id": "abea914e",
   "metadata": {},
   "outputs": [],
   "source": [
    "#Return Values\n",
    "#To let a function return a value, use the return statement:"
   ]
  },
  {
   "cell_type": "code",
   "execution_count": null,
   "id": "2ae015e7",
   "metadata": {},
   "outputs": [],
   "source": [
    "def my_function(x):\n",
    "    return 5 * x\n",
    "\n",
    "print(my_function(3))\n",
    "print(my_function(5))\n",
    "print(my_function(9))"
   ]
  },
  {
   "cell_type": "markdown",
   "id": "367d95cb",
   "metadata": {},
   "source": [
    "## Recursion"
   ]
  },
  {
   "cell_type": "raw",
   "id": "6364cb47",
   "metadata": {},
   "source": [
    "Python also accepts function recursion, which means a defined function can call itself.\n",
    "\n",
    "Recursion is a common mathematical and programming concept. It means that a function calls itself. \n",
    "This has the benefit of meaning that you can loop through data to reach a result.\n",
    "\n",
    "The developer should be very careful with recursion as it can be quite easy to slip into writing a function which never terminates, or one that uses excess amounts of memory or processor power. However, \n",
    "when written correctly recursion can be a very efficient and mathematically-elegant approach to programming.\n",
    "\n",
    "In this example, tri_recursion() is a function that we have defined to call itself (\"recurse\"). \n",
    "We use the k variable as the data, which decrements (-1) every time we recurse. \n",
    "The recursion ends when the condition is not greater than 0 (i.e. when it is 0).\n",
    "\n",
    "To a new developer it can take some time to work out how exactly this works, \n",
    "best way to find out is by testing and modifying it."
   ]
  },
  {
   "cell_type": "code",
   "execution_count": 55,
   "id": "fe7beedc",
   "metadata": {},
   "outputs": [
    {
     "name": "stdout",
     "output_type": "stream",
     "text": [
      "\n",
      "\n",
      "Recursion Example Results\n"
     ]
    },
    {
     "data": {
      "text/plain": [
       "0"
      ]
     },
     "execution_count": 55,
     "metadata": {},
     "output_type": "execute_result"
    }
   ],
   "source": [
    "#Recursion Example\n",
    "def tri_recursion(k):\n",
    "    if(k > 0):\n",
    "        result = k + tri_recursion(k - 1)\n",
    "        print(result)\n",
    "    else:\n",
    "        result = 0\n",
    "    return result\n",
    "\n",
    "print(\"\\n\\nRecursion Example Results\")\n",
    "tri_recursion(6)"
   ]
  },
  {
   "cell_type": "code",
   "execution_count": 67,
   "id": "cfff3d4b-9390-418d-86ed-a11a844273d6",
   "metadata": {},
   "outputs": [
    {
     "name": "stdout",
     "output_type": "stream",
     "text": [
      "\n",
      "\n",
      "Recursion Example Results\n",
      "Ayo is Great\n",
      "Ayo is Great\n",
      "Ayo is Great\n",
      "Ayo is Great\n",
      "Ayo is Great\n",
      "Ayo is Great\n"
     ]
    },
    {
     "data": {
      "text/plain": [
       "'Ayo is Great'"
      ]
     },
     "execution_count": 67,
     "metadata": {},
     "output_type": "execute_result"
    }
   ],
   "source": [
    "def tri_recursion(k):\n",
    "    if(k < 6):\n",
    "        tri_recursion(k + 1)\n",
    "        result = 'Ayo is Great'\n",
    "        print(result)\n",
    "    else:\n",
    "        result = 0\n",
    "    return result\n",
    "\n",
    "print(\"\\n\\nRecursion Example Results\")\n",
    "tri_recursion(0)"
   ]
  },
  {
   "cell_type": "markdown",
   "id": "3c1cdfe1",
   "metadata": {},
   "source": [
    "## Python Lambda"
   ]
  },
  {
   "cell_type": "raw",
   "id": "3fd77bd1",
   "metadata": {},
   "source": [
    "A lambda function is a small anonymous function.\n",
    "A lambda function can take any number of arguments, but can only have one expression."
   ]
  },
  {
   "cell_type": "raw",
   "id": "078f37a1",
   "metadata": {},
   "source": [
    "Syntax\n",
    "lambda arguments : expression\n",
    "The expression is executed and the result is returned:"
   ]
  },
  {
   "cell_type": "code",
   "execution_count": 36,
   "id": "9be20b0c",
   "metadata": {},
   "outputs": [
    {
     "name": "stdout",
     "output_type": "stream",
     "text": [
      "15\n"
     ]
    }
   ],
   "source": [
    "#Add 10 to argument a, and return the result:\n",
    "x = lambda a : a + 10\n",
    "print(x(5))"
   ]
  },
  {
   "cell_type": "code",
   "execution_count": 37,
   "id": "ac5a5213",
   "metadata": {},
   "outputs": [
    {
     "name": "stdout",
     "output_type": "stream",
     "text": [
      "30\n"
     ]
    }
   ],
   "source": [
    "#Multiply argument a with argument b and return the result:\n",
    "x = lambda a, b : a * b\n",
    "print(x(5, 6))"
   ]
  },
  {
   "cell_type": "code",
   "execution_count": 2,
   "id": "7e9769bc",
   "metadata": {},
   "outputs": [
    {
     "name": "stdout",
     "output_type": "stream",
     "text": [
      "13\n"
     ]
    }
   ],
   "source": [
    "#Summarize argument a, b, and c and return the result:\n",
    "x = lambda a, b, c : a + b + c\n",
    "print(x(5, 6, 2))"
   ]
  },
  {
   "cell_type": "markdown",
   "id": "81b30a0c",
   "metadata": {},
   "source": [
    "#### Why Use Lambda Functions?"
   ]
  },
  {
   "cell_type": "raw",
   "id": "72e20e20",
   "metadata": {},
   "source": [
    "The power of lambda is better shown when you use them as an anonymous function inside another function.\n",
    "\n",
    "Say you have a function definition that takes one argument, \n",
    "and that argument will be multiplied with an unknown number:"
   ]
  },
  {
   "cell_type": "code",
   "execution_count": 40,
   "id": "43130998",
   "metadata": {},
   "outputs": [
    {
     "name": "stdout",
     "output_type": "stream",
     "text": [
      "4\n"
     ]
    }
   ],
   "source": [
    "def myfunc(n):\n",
    "    return lambda a : a * n\n",
    "    \n",
    "\n",
    "x = myfunc(2)\n",
    "print(x(2))"
   ]
  },
  {
   "cell_type": "code",
   "execution_count": 71,
   "id": "7bae9c00-12ea-457e-a952-10aa521a7dea",
   "metadata": {},
   "outputs": [
    {
     "data": {
      "text/plain": [
       "2"
      ]
     },
     "execution_count": 71,
     "metadata": {},
     "output_type": "execute_result"
    }
   ],
   "source": [
    "def sum(a):\n",
    "    return a\n",
    "\n",
    "callfunc = sum(2)\n",
    "\n",
    "callfunc"
   ]
  },
  {
   "cell_type": "code",
   "execution_count": 41,
   "id": "565d1adb",
   "metadata": {},
   "outputs": [
    {
     "name": "stdout",
     "output_type": "stream",
     "text": [
      "33\n"
     ]
    }
   ],
   "source": [
    "def myfunc(n):\n",
    "    return lambda a : a * n\n",
    "\n",
    "mytripler = myfunc(3)\n",
    "\n",
    "print(mytripler(11))"
   ]
  },
  {
   "cell_type": "code",
   "execution_count": null,
   "id": "4987b154",
   "metadata": {},
   "outputs": [],
   "source": [
    "def myfunc(n):\n",
    "    return lambda a : a * n\n",
    "\n",
    "mydoubler = myfunc(2)\n",
    "mytripler = myfunc(3)\n",
    "\n",
    "print(mydoubler(11))\n",
    "print(mytripler(11))"
   ]
  },
  {
   "cell_type": "markdown",
   "id": "805c60de-0efb-4fae-b85c-b7a224069cac",
   "metadata": {},
   "source": [
    "Python Lambda Assignment"
   ]
  },
  {
   "cell_type": "raw",
   "id": "fa55c641-d3bd-4c6e-b5d2-1cd99aaf88ee",
   "metadata": {},
   "source": [
    "1. write a lambda function to return the odd number from the list [1, 2, 3, 4, 5, 6]"
   ]
  },
  {
   "cell_type": "code",
   "execution_count": 1,
   "id": "2de3048d-2ad7-4dd1-b5fd-3faf21663ced",
   "metadata": {},
   "outputs": [
    {
     "name": "stdout",
     "output_type": "stream",
     "text": [
      "[1, 3, 5]\n"
     ]
    }
   ],
   "source": [
    "oddNumber = list(filter(lambda x: x % 2 != 0, {1, 2, 3, 4, 5, 6}))\n",
    "print(oddNumber)"
   ]
  },
  {
   "cell_type": "code",
   "execution_count": null,
   "id": "402bf767-5f0c-4b8a-83d1-6e988087f916",
   "metadata": {},
   "outputs": [],
   "source": [
    "var = lambda x: x % 2 != 0\n",
    "oddnum = list (filter(var,list)"
   ]
  },
  {
   "cell_type": "code",
   "execution_count": null,
   "id": "0af2ea53-0991-4a88-b47e-99174565a583",
   "metadata": {},
   "outputs": [],
   "source": [
    "def my_list():\n",
    "    return lambda x: x % 2 != 0\n",
    "\n",
    "var = my_list()\n",
    "\n"
   ]
  },
  {
   "cell_type": "code",
   "execution_count": 11,
   "id": "e0123236-1312-44d9-936f-0175609dc230",
   "metadata": {},
   "outputs": [
    {
     "name": "stdout",
     "output_type": "stream",
     "text": [
      "[1, 3, 5]\n"
     ]
    }
   ],
   "source": [
    "myList =[1, 2, 3, 4, 5, 6]\n",
    "\n",
    "var = lambda x: x % 2 != 0\n",
    "oddNumber = list(filter(var,myList))\n",
    "print(oddNumber)"
   ]
  },
  {
   "cell_type": "raw",
   "id": "abd95098-7bf3-4690-8e48-87e89c874883",
   "metadata": {},
   "source": [
    "2. write a function that multiplies any number entered by a user by 2, using a function that returns a lambda function"
   ]
  },
  {
   "cell_type": "code",
   "execution_count": 5,
   "id": "bc2664c2-d130-40ef-b182-e7da6adfce36",
   "metadata": {},
   "outputs": [
    {
     "name": "stdin",
     "output_type": "stream",
     "text": [
      "Input your Number: 3\n"
     ]
    },
    {
     "name": "stdout",
     "output_type": "stream",
     "text": [
      "your answer is: 6\n"
     ]
    }
   ],
   "source": [
    "def multiples():\n",
    "    return lambda x: x * 2\n",
    "multiply_by2 = multiples()\n",
    "    \n",
    "user_input = int(input('Input your Number:'))\n",
    "result = (multiply_by2(user_input))\n",
    "\n",
    "print('your answer is:', result)"
   ]
  },
  {
   "cell_type": "code",
   "execution_count": 35,
   "id": "b64d0390-0b37-428b-9bb8-38994c372c51",
   "metadata": {},
   "outputs": [
    {
     "name": "stdout",
     "output_type": "stream",
     "text": [
      "[2, 4, 6, 8, 10, 12]\n"
     ]
    }
   ],
   "source": [
    "mylist = [1, 2, 3, 4, 5, 6]\n",
    "\n",
    "var2 = lambda x: x * 2\n",
    "multiplyby2 = [var2(x) for x in mylist]\n",
    "print(multiplyby2)"
   ]
  },
  {
   "cell_type": "code",
   "execution_count": 37,
   "id": "0a619298-6e6e-4447-971a-8f8462236f53",
   "metadata": {},
   "outputs": [
    {
     "name": "stdout",
     "output_type": "stream",
     "text": [
      "your answer is: [1, 2, 3, 4, 5, 6, 1, 2, 3, 4, 5, 6]\n"
     ]
    }
   ],
   "source": [
    "mylist = [1, 2, 3, 4, 5, 6]\n",
    "\n",
    "def multiples():\n",
    "    return lambda x: x * 2\n",
    "multiply_by2 = multiples()\n",
    "    \n",
    "#user_input = mylist\n",
    "result = (multiply_by2(mylist))\n",
    "\n",
    "print('your answer is:', result)"
   ]
  },
  {
   "cell_type": "raw",
   "id": "7216da28-b373-4b49-b8bc-1753aecc18af",
   "metadata": {},
   "source": [
    "3. write a lambda function to return the square of any number"
   ]
  },
  {
   "cell_type": "code",
   "execution_count": 21,
   "id": "e32fc995-8c83-4bf2-a425-76dd9adbfa88",
   "metadata": {},
   "outputs": [
    {
     "name": "stdin",
     "output_type": "stream",
     "text": [
      "Input your Number: 4\n"
     ]
    },
    {
     "name": "stdout",
     "output_type": "stream",
     "text": [
      "Your Answer is: 16\n"
     ]
    }
   ],
   "source": [
    "def square():\n",
    "    return lambda x: x * x\n",
    "squared = square()\n",
    "    \n",
    "user_input = int(input('Input your Number:'))\n",
    "result = (squared(user_input))\n",
    "\n",
    "print('Your Answer is:', result)"
   ]
  },
  {
   "cell_type": "markdown",
   "id": "f453687a",
   "metadata": {},
   "source": [
    "## Python Classes/Objects"
   ]
  },
  {
   "cell_type": "raw",
   "id": "0e2eb251",
   "metadata": {},
   "source": [
    "Python is an object oriented programming language.\n",
    "Almost everything in Python is an object, with its properties and methods.\n",
    "A Class is like an object constructor, or a \"blueprint\" for creating objects."
   ]
  },
  {
   "cell_type": "raw",
   "id": "cf3adf44",
   "metadata": {},
   "source": [
    "Create a Class\n",
    "To create a class, use the keyword class:"
   ]
  },
  {
   "cell_type": "code",
   "execution_count": 1,
   "id": "247e7bdd",
   "metadata": {},
   "outputs": [],
   "source": [
    "#Create a class named MyClass, with a property named x:\n",
    "class MyClass:\n",
    "    x = 5"
   ]
  },
  {
   "cell_type": "code",
   "execution_count": 2,
   "id": "aba73da1",
   "metadata": {},
   "outputs": [
    {
     "name": "stdout",
     "output_type": "stream",
     "text": [
      "5\n"
     ]
    }
   ],
   "source": [
    "#Create an object named p1, and print the value of x:\n",
    "\n",
    "p1 = MyClass()\n",
    "print(p1.x)"
   ]
  },
  {
   "cell_type": "markdown",
   "id": "69ec148e",
   "metadata": {},
   "source": [
    "## The __init__() Function"
   ]
  },
  {
   "cell_type": "raw",
   "id": "ef582189",
   "metadata": {},
   "source": [
    "\n",
    "The examples above are classes and objects in their simplest form, \n",
    "and are not really useful in real life applications.\n",
    "\n",
    "To understand the meaning of classes we have to understand the built-in __init__() function.\n",
    "\n",
    "All classes have a function called __init__(), which is always executed when the class is being initiated.\n",
    "\n",
    "Use the __init__() function to assign values to object properties, \n",
    "or other operations that are necessary to do when the object is being created:"
   ]
  },
  {
   "cell_type": "code",
   "execution_count": 3,
   "id": "48a69d26",
   "metadata": {},
   "outputs": [
    {
     "name": "stdout",
     "output_type": "stream",
     "text": [
      "John\n",
      "36\n"
     ]
    }
   ],
   "source": [
    "#Create a class named Person, use the __init__() function to assign values for name and age:\n",
    "\n",
    "class Person:\n",
    "    def __init__(self, name, age):\n",
    "        self.name = name\n",
    "        self.age = age\n",
    "\n",
    "p1 = Person(\"John\", 36)\n",
    "\n",
    "print(p1.name)\n",
    "print(p1.age)"
   ]
  },
  {
   "cell_type": "code",
   "execution_count": null,
   "id": "a1ba2439-ac9d-4912-b844-f8a7b15947e5",
   "metadata": {},
   "outputs": [],
   "source": []
  },
  {
   "cell_type": "code",
   "execution_count": 50,
   "id": "73f7c165",
   "metadata": {},
   "outputs": [
    {
     "name": "stdout",
     "output_type": "stream",
     "text": [
      "30\n"
     ]
    }
   ],
   "source": [
    "class Item:\n",
    "    def __init__(self, x):\n",
    "        self.x = x\n",
    "\n",
    "p2 = Item(30)\n",
    "print(p2.x)"
   ]
  },
  {
   "cell_type": "code",
   "execution_count": 4,
   "id": "aee1d51d",
   "metadata": {},
   "outputs": [
    {
     "name": "stdout",
     "output_type": "stream",
     "text": [
      "Hello my name is John\n"
     ]
    }
   ],
   "source": [
    "#Insert a function that prints a greeting, and execute it on the p1 object:\n",
    "class Person:\n",
    "  def __init__(self, name, age):\n",
    "    self.name = name\n",
    "    self.age = age\n",
    "\n",
    "  def myfunc(self):\n",
    "    print(\"Hello my name is \" + self.name)\n",
    "\n",
    "p1 = Person(\"John\", 36)\n",
    "p1.myfunc()"
   ]
  },
  {
   "cell_type": "markdown",
   "id": "8dc41f30",
   "metadata": {},
   "source": []
  },
  {
   "cell_type": "markdown",
   "id": "b6ed284e",
   "metadata": {},
   "source": [
    "### The self Parameter"
   ]
  },
  {
   "cell_type": "markdown",
   "id": "99f0c28c",
   "metadata": {},
   "source": [
    "The self parameter is a reference to the current instance of the class, \n",
    "and is used to access variables that belongs to the class.\n",
    "It does not have to be named self , you can call it whatever you like, \n",
    "but it has to be the first parameter of any function in the class:"
   ]
  },
  {
   "cell_type": "code",
   "execution_count": 20,
   "id": "db40f9c0",
   "metadata": {},
   "outputs": [
    {
     "name": "stdout",
     "output_type": "stream",
     "text": [
      "Hello my name is John\n"
     ]
    }
   ],
   "source": [
    "#Use the words mysillyobject and abc instead of self:\n",
    "\n",
    "class Person:\n",
    "  def __init__(mysillyobject, name, age):\n",
    "    mysillyobject.name = name\n",
    "    mysillyobject.age = age\n",
    "\n",
    "  def myfunc(abc):\n",
    "    print(\"Hello my name is \" + abc.name)\n",
    "\n",
    "p1 = Person(\"John\", 36)\n",
    "p1.myfunc()"
   ]
  },
  {
   "cell_type": "code",
   "execution_count": null,
   "id": "e6fe4a9e-012a-4c10-a210-502bf354a6ec",
   "metadata": {},
   "outputs": [],
   "source": []
  },
  {
   "cell_type": "code",
   "execution_count": 22,
   "id": "32d08005-2564-4a20-b0e7-f7b6b95fe48c",
   "metadata": {},
   "outputs": [
    {
     "ename": "TypeError",
     "evalue": "star() takes no arguments",
     "output_type": "error",
     "traceback": [
      "\u001b[1;31m---------------------------------------------------------------------------\u001b[0m",
      "\u001b[1;31mTypeError\u001b[0m                                 Traceback (most recent call last)",
      "Cell \u001b[1;32mIn[22], line 5\u001b[0m\n\u001b[0;32m      3\u001b[0m         \u001b[38;5;28mself\u001b[39m\u001b[38;5;241m.\u001b[39mx \u001b[38;5;241m=\u001b[39m x\n\u001b[0;32m      4\u001b[0m         \u001b[38;5;28mself\u001b[39m\u001b[38;5;241m.\u001b[39my \u001b[38;5;241m=\u001b[39m y\n\u001b[1;32m----> 5\u001b[0m t7 \u001b[38;5;241m=\u001b[39m star(\u001b[38;5;241m4\u001b[39m, \u001b[38;5;241m6\u001b[39m)\n\u001b[0;32m      6\u001b[0m \u001b[38;5;28mprint\u001b[39m(t7\u001b[38;5;241m.\u001b[39mx \u001b[38;5;241m+\u001b[39m t7\u001b[38;5;241m.\u001b[39my)\n",
      "\u001b[1;31mTypeError\u001b[0m: star() takes no arguments"
     ]
    }
   ],
   "source": [
    "class star:\n",
    "    def __int__(self, x, y):\n",
    "        self.x = x\n",
    "        self.y = y\n",
    "t7 = star(4, 6)\n",
    "print(t7.x + t7.y)"
   ]
  },
  {
   "cell_type": "markdown",
   "id": "632845f9",
   "metadata": {},
   "source": [
    "#### Modify Object Properties\n",
    "You can modify properties on objects like this:"
   ]
  },
  {
   "cell_type": "code",
   "execution_count": null,
   "id": "27284a4e",
   "metadata": {},
   "outputs": [],
   "source": [
    "p1.age = 40\n",
    "#Delete the age property from the p1 object:\n",
    "del p1.age\n",
    "\n",
    "#Delete the p1 object:\n",
    "del p1"
   ]
  },
  {
   "cell_type": "markdown",
   "id": "2cec97d4",
   "metadata": {},
   "source": [
    "### Python Inheritance"
   ]
  },
  {
   "cell_type": "markdown",
   "id": "691cfaf2",
   "metadata": {},
   "source": [
    "Inheritance allows us to define a class that inherits all the methods and properties from another class.\n",
    "Parent class is the class being inherited from, also called base class.\n",
    "Child class is the class that inherits from another class, also called derived class."
   ]
  },
  {
   "cell_type": "code",
   "execution_count": 3,
   "id": "adde5e69",
   "metadata": {},
   "outputs": [
    {
     "name": "stdout",
     "output_type": "stream",
     "text": [
      "John Doe\n"
     ]
    }
   ],
   "source": [
    "#Create a class named Person, with firstname and lastname properties, and a printname method:\n",
    "\n",
    "class Person:\n",
    "  def __init__(self, fname, lname):\n",
    "    self.firstname = fname\n",
    "    self.lastname = lname\n",
    "\n",
    "  def printname(self):\n",
    "    print (self.firstname, self.lastname)\n",
    "\n",
    "#Use the Person class to create an object, and then execute the printname method:\n",
    "\n",
    "x = Person(\"John\", \"Doe\")\n",
    "x.printname()"
   ]
  },
  {
   "cell_type": "code",
   "execution_count": 4,
   "id": "fce5a001",
   "metadata": {},
   "outputs": [],
   "source": [
    "#Create a class named Student, which will inherit the properties and methods from the Person class:\n",
    "\n",
    "class Student(Person):\n",
    "    pass"
   ]
  },
  {
   "cell_type": "code",
   "execution_count": 5,
   "id": "6813ffa0",
   "metadata": {},
   "outputs": [
    {
     "name": "stdout",
     "output_type": "stream",
     "text": [
      "Mike Olsen\n"
     ]
    }
   ],
   "source": [
    "#Use the Student class to create an object, and then execute the printname method:\n",
    "\n",
    "x = Student(\"Mike\", \"Olsen\")\n",
    "x.printname()"
   ]
  },
  {
   "cell_type": "code",
   "execution_count": null,
   "id": "452a5193-2e2a-48a9-b6bd-29d9aedb5a2d",
   "metadata": {},
   "outputs": [],
   "source": []
  },
  {
   "cell_type": "code",
   "execution_count": 15,
   "id": "68532184-5214-43d6-a7f8-407cc6703a90",
   "metadata": {
    "scrolled": true
   },
   "outputs": [
    {
     "name": "stdout",
     "output_type": "stream",
     "text": [
      "The name of the director is Mr. Okonkwo Steven\n"
     ]
    }
   ],
   "source": [
    "class Aptech:\n",
    "    def __init__(self, fname, lname):\n",
    "        self.firstname = fname\n",
    "        self.lastname = lname\n",
    "    def manager(self):\n",
    "        print(\"The name of the director is Mr. \" + self.lastname + \" \" self.firstname)\n",
    "\n",
    "x = Aptech(\"Steven\", \"Okonkwo\")\n",
    "x.manager()"
   ]
  },
  {
   "cell_type": "code",
   "execution_count": null,
   "id": "ed422712-65d7-4d0a-bab8-933ab0c03979",
   "metadata": {},
   "outputs": [],
   "source": [
    "class Datascience(Aptech)\n",
    "    def __init__(self, fname, lname):\n",
    "        super().__init__(fname, lname)\n",
    "        self.firstname = fname\n",
    "        self.lastname = lname\n",
    "    \n",
    "    def teacher(self):\n",
    "        print(\"The name of the director is Mr. \" + self.lastname + \" \" self.firstname)\n",
    "\n",
    "x = Aptech(\"Steven\", \"Okonkwo\")\n",
    "x.manager()"
   ]
  },
  {
   "cell_type": "markdown",
   "id": "e8bf4345",
   "metadata": {},
   "source": [
    "So far we have created a child class that inherits the properties and methods from its parent.\n",
    "We want to add the __init__() function to the child class (instead of the pass keyword)."
   ]
  },
  {
   "cell_type": "code",
   "execution_count": 48,
   "id": "982223d7-cecb-4191-acbb-f4005466bfd9",
   "metadata": {},
   "outputs": [
    {
     "name": "stdout",
     "output_type": "stream",
     "text": [
      "welcomesamuelstevento class of 2003\n"
     ]
    }
   ],
   "source": [
    "#another way is to use super keyword\n",
    "#you don't need the self parameter when using super\n",
    "class Student(Person):\n",
    "    def __init__(self, fname, lname, year):\n",
    "        super().__init__(fname, lname)\n",
    "        self.gradyear = year\n",
    "\n",
    "    def welcome(self):\n",
    "        print(\"welcome\" + self.firstname + self.lastname + \"to class of\" , self.gradyear)\n",
    "        \n",
    "r2 = Student(\"samuel\", \"steven\", 2003)\n",
    "r2.welcome()"
   ]
  },
  {
   "cell_type": "code",
   "execution_count": 32,
   "id": "f31d37d8",
   "metadata": {},
   "outputs": [
    {
     "ename": "SyntaxError",
     "evalue": "incomplete input (1888058082.py, line 5)",
     "output_type": "error",
     "traceback": [
      "\u001b[1;36m  Cell \u001b[1;32mIn[32], line 5\u001b[1;36m\u001b[0m\n\u001b[1;33m    #add properties etc.\u001b[0m\n\u001b[1;37m                        ^\u001b[0m\n\u001b[1;31mSyntaxError\u001b[0m\u001b[1;31m:\u001b[0m incomplete input\n"
     ]
    }
   ],
   "source": [
    "#Add the __init__() function to the Student class:\n",
    "\n",
    "class Student(Person):\n",
    "  def __init__(self, fname, lname):\n",
    "    #add properties etc."
   ]
  },
  {
   "cell_type": "code",
   "execution_count": 33,
   "id": "385c23bf",
   "metadata": {},
   "outputs": [],
   "source": [
    "#To keep the inheritance of the parent's __init__() function, add a call to the parent's __init__() function:\n",
    "\n",
    "class Student(Person):\n",
    "  def __init__(self, fname, lname):\n",
    "    Person.__init__(self, fname, lname)"
   ]
  },
  {
   "cell_type": "code",
   "execution_count": 51,
   "id": "697917e9",
   "metadata": {},
   "outputs": [
    {
     "name": "stdout",
     "output_type": "stream",
     "text": [
      "welcome samuel steven to class of 2003\n"
     ]
    }
   ],
   "source": [
    "#another way is to use super keyword\n",
    "#you don't need the self parameter when using super\n",
    "class Student(Person):\n",
    "    def __init__(self, fname, lname, year):\n",
    "        super().__init__(fname, lname)\n",
    "        self.gradyear = year\n",
    "\n",
    "    def welcome(self):\n",
    "        print(\"welcome \" + self.firstname +\" \" + self.lastname + \" to class of\" , self.gradyear)\n",
    "        \n",
    "r2 = Student(\"samuel\", \"steven\", 2003)\n",
    "r2.welcome()"
   ]
  },
  {
   "cell_type": "code",
   "execution_count": 52,
   "id": "e36a3d1b-36cf-45c9-ae7f-4b3d53eb016a",
   "metadata": {},
   "outputs": [
    {
     "name": "stdout",
     "output_type": "stream",
     "text": [
      "welcome samuel steven to class of 2003\n"
     ]
    }
   ],
   "source": [
    "\"\"\"the difference between this and the above example is that the above was overridden by the super keyword and was not called again. while it was called\n",
    "it was called back here\"\"\"\n",
    "\n",
    "class Student(Person):\n",
    "    def __init__(self, fname, lname, year):\n",
    "        super().__init__(fname, lname)\n",
    "        self.gradyear = year\n",
    "        self.fname = fname\n",
    "        self.lname = lname\n",
    "\n",
    "    def welcome(self):\n",
    "        print(\"welcome \" + self.fname +\" \" + self.lname + \" to class of\" , self.gradyear)\n",
    "        \n",
    "r2 = Student(\"samuel\", \"steven\", 2003)\n",
    "r2.welcome()"
   ]
  },
  {
   "cell_type": "raw",
   "id": "7ab2f156-3544-4770-bda8-670f723f88f5",
   "metadata": {},
   "source": [
    "#class work\n",
    "#A python class for banking operations\n",
    "\n",
    "A bank class that has the attributes; customer_name and account_number, and account_balance\n",
    "\n",
    "Another account class that inherits the bank class. it has methods of withdrawal, check_balance and deposit.\n",
    "You are to print the customer's details.\n",
    "\n",
    "You're also to implement the withdrawal, the deposit and the check_balance methods."
   ]
  },
  {
   "cell_type": "code",
   "execution_count": 3,
   "id": "d6113187-27e2-49cb-a05c-8de91fa231ea",
   "metadata": {},
   "outputs": [
    {
     "name": "stdout",
     "output_type": "stream",
     "text": [
      "Stanley Steven 6555324346 20400\n"
     ]
    }
   ],
   "source": [
    "class Bank:\n",
    "    def __init__(self, customer_name, account_number, account_balance):\n",
    "        self.customer_name= customer_name\n",
    "        self.account_number = account_number\n",
    "        self.account_balance = account_balance\n",
    "    def customer(self):\n",
    "        print(self.customer_name , self.account_number , self.account_balance)\n",
    "\n",
    "b = Bank(\"Stanley Steven\", 6555324346, 20400)\n",
    "b.customer()"
   ]
  },
  {
   "cell_type": "code",
   "execution_count": 4,
   "id": "80310ea3-146b-4f4f-a169-a2659eb464ae",
   "metadata": {},
   "outputs": [],
   "source": [
    "class Account(Bank):\n",
    "    def __init__(self, customer_name, account_number, account_balance, withdrawal, check_balance, deposit):\n",
    "        self.customer_name= customer_name\n",
    "        self.account_number = account_number\n",
    "        self.account_balance = account_balance\n",
    "        super().(customer_name, account_number, account_balance)\n",
    "        self.withdraw = withdrawal\n",
    "        self.check_balance = check_balance\n",
    "        self.deposit = deposit"
   ]
  },
  {
   "cell_type": "code",
   "execution_count": 5,
   "id": "3ea9976b-cfa0-40ee-9942-d603d40eff61",
   "metadata": {},
   "outputs": [
    {
     "ename": "TypeError",
     "evalue": "Bank.__init__() missing 2 required positional arguments: 'account_number' and 'account_balance'",
     "output_type": "error",
     "traceback": [
      "\u001b[1;31m---------------------------------------------------------------------------\u001b[0m",
      "\u001b[1;31mTypeError\u001b[0m                                 Traceback (most recent call last)",
      "Cell \u001b[1;32mIn[5], line 1\u001b[0m\n\u001b[1;32m----> 1\u001b[0m a \u001b[38;5;241m=\u001b[39m Account(Bank)\n\u001b[0;32m      2\u001b[0m a\u001b[38;5;241m.\u001b[39mcustomer\n",
      "\u001b[1;31mTypeError\u001b[0m: Bank.__init__() missing 2 required positional arguments: 'account_number' and 'account_balance'"
     ]
    }
   ],
   "source": [
    "a = Account(Bank)\n",
    "a.customer"
   ]
  },
  {
   "cell_type": "markdown",
   "id": "c577e9c9",
   "metadata": {},
   "source": [
    "### Instance Methods vs Static Methods"
   ]
  },
  {
   "cell_type": "code",
   "execution_count": 53,
   "id": "e0415be7",
   "metadata": {},
   "outputs": [
    {
     "name": "stdout",
     "output_type": "stream",
     "text": [
      "Instance variable: I am an instance variable, Class variable: I am a class variable\n",
      "Class variable: I am a class variable\n"
     ]
    }
   ],
   "source": [
    "class Example:\n",
    "    class_variable = \"I am a class variable\"\n",
    "    \n",
    "    def __init__(self, instance_variable):\n",
    "        self.instance_variable = instance_variable\n",
    "    \n",
    "    def instance_method(self):\n",
    "        # Can access instance and class variables\n",
    "        return f\"Instance variable: {self.instance_variable}, Class variable: {Example.class_variable}\"\n",
    "    \n",
    "    @staticmethod\n",
    "    def static_method():\n",
    "        # Cannot access instance variables\n",
    "        return f\"Class variable: {Example.class_variable}\"\n",
    "\n",
    "# Create an instance of the class\n",
    "example_instance = Example(\"I am an instance variable\")\n",
    "\n",
    "# Call the instance method\n",
    "print(example_instance.instance_method())  # Outputs instance and class variable values\n",
    "\n",
    "# Call the static method\n",
    "print(Example.static_method())  # Outputs only the class variable value\n"
   ]
  },
  {
   "cell_type": "code",
   "execution_count": null,
   "id": "6be43892",
   "metadata": {},
   "outputs": [],
   "source": [
    "09168686411"
   ]
  },
  {
   "cell_type": "code",
   "execution_count": null,
   "id": "b6d7fed1-e450-42c5-a4dc-2fb25193e265",
   "metadata": {},
   "outputs": [],
   "source": []
  },
  {
   "cell_type": "code",
   "execution_count": 54,
   "id": "3f810997-894f-4a4d-a0ab-7d976f80e7ef",
   "metadata": {},
   "outputs": [
    {
     "ename": "TypeError",
     "evalue": "star() takes no arguments",
     "output_type": "error",
     "traceback": [
      "\u001b[1;31m---------------------------------------------------------------------------\u001b[0m",
      "\u001b[1;31mTypeError\u001b[0m                                 Traceback (most recent call last)",
      "Cell \u001b[1;32mIn[54], line 5\u001b[0m\n\u001b[0;32m      3\u001b[0m         \u001b[38;5;28mself\u001b[39m\u001b[38;5;241m.\u001b[39mx \u001b[38;5;241m=\u001b[39m x\n\u001b[0;32m      4\u001b[0m         \u001b[38;5;28mself\u001b[39m\u001b[38;5;241m.\u001b[39my \u001b[38;5;241m=\u001b[39m y\n\u001b[1;32m----> 5\u001b[0m t7 \u001b[38;5;241m=\u001b[39m star(\u001b[38;5;241m4\u001b[39m, \u001b[38;5;241m6\u001b[39m)\n\u001b[0;32m      6\u001b[0m \u001b[38;5;28mprint\u001b[39m(t7\u001b[38;5;241m.\u001b[39mx , t7\u001b[38;5;241m.\u001b[39my)\n",
      "\u001b[1;31mTypeError\u001b[0m: star() takes no arguments"
     ]
    }
   ],
   "source": [
    "class star:\n",
    "    def __int__ (self, x, y):\n",
    "        self.x = x\n",
    "        self.y = y\n",
    "t7 = star(4, 6)\n",
    "print(t7.x + t7.y)"
   ]
  },
  {
   "cell_type": "code",
   "execution_count": null,
   "id": "88572c71-40ba-4bf1-ac9a-dca0dfc34d20",
   "metadata": {},
   "outputs": [],
   "source": []
  }
 ],
 "metadata": {
  "kernelspec": {
   "display_name": "Python 3 (ipykernel)",
   "language": "python",
   "name": "python3"
  },
  "language_info": {
   "codemirror_mode": {
    "name": "ipython",
    "version": 3
   },
   "file_extension": ".py",
   "mimetype": "text/x-python",
   "name": "python",
   "nbconvert_exporter": "python",
   "pygments_lexer": "ipython3",
   "version": "3.12.4"
  }
 },
 "nbformat": 4,
 "nbformat_minor": 5
}
